{
  "nbformat": 4,
  "nbformat_minor": 0,
  "metadata": {
    "colab": {
      "provenance": [],
      "authorship_tag": "ABX9TyO2bLrLWM/+dhkUBGE6SXr4"
    },
    "kernelspec": {
      "name": "python3",
      "display_name": "Python 3"
    },
    "language_info": {
      "name": "python"
    }
  },
  "cells": [
    {
      "cell_type": "code",
      "execution_count": 1,
      "metadata": {
        "id": "L8uCmGUgoQ5u",
        "colab": {
          "base_uri": "https://localhost:8080/"
        },
        "outputId": "1f1ab767-419a-4140-c044-daf67c9942de"
      },
      "outputs": [
        {
          "output_type": "stream",
          "name": "stdout",
          "text": [
            "Drive already mounted at /content/drive; to attempt to forcibly remount, call drive.mount(\"/content/drive\", force_remount=True).\n"
          ]
        }
      ],
      "source": [
        "import os\n",
        "from google.colab import drive\n",
        "drive.mount('/content/drive')"
      ]
    },
    {
      "cell_type": "code",
      "source": [
        "os.chdir('/content/drive/MyDrive/DL_Tasks_2024/recognize_facial_emotion')"
      ],
      "metadata": {
        "id": "soM9J9F1ouvm"
      },
      "execution_count": 2,
      "outputs": []
    },
    {
      "cell_type": "markdown",
      "source": [
        "# Import Libraries"
      ],
      "metadata": {
        "id": "Q8MoIJnOyUud"
      }
    },
    {
      "cell_type": "code",
      "source": [
        "import numpy as np\n",
        "import tensorflow as tf\n",
        "from tensorflow.keras.models import Sequential\n",
        "from tensorflow.keras.layers import Conv2D, MaxPooling2D, Dense, Flatten\n",
        "import matplotlib.pyplot as plt\n",
        "import zipfile\n",
        "from keras.preprocessing.image import ImageDataGenerator\n",
        "import shutil\n",
        "import random\n",
        "from PIL import Image\n",
        "from tensorflow.keras import callbacks\n",
        "import cv2\n",
        "from tensorflow.keras.utils import to_categorical\n",
        "import pandas as pd"
      ],
      "metadata": {
        "id": "i4CedmJrrbpN"
      },
      "execution_count": 3,
      "outputs": []
    },
    {
      "cell_type": "markdown",
      "source": [
        "\n",
        "# Unzip the dataset & Loading it\n",
        "\n"
      ],
      "metadata": {
        "id": "baaGtCfx3Spm"
      }
    },
    {
      "cell_type": "code",
      "source": [
        "#with zipfile.ZipFile(\"recognize_facial_samples.zip\",\"r\") as zip_ref :\n",
        "#  zip_ref.extractall(\"Samples/\")"
      ],
      "metadata": {
        "id": "OPluKzKy3ag8"
      },
      "execution_count": null,
      "outputs": []
    },
    {
      "cell_type": "markdown",
      "source": [
        "# Cheching Balancing in our training set\n",
        "\n",
        "\n",
        "> 50% happy -- 50 % sad\n"
      ],
      "metadata": {
        "id": "JGJ8-KJSHvEs"
      }
    },
    {
      "cell_type": "code",
      "source": [
        "#For Training Data ONLY\n",
        "\n",
        "image_extensions = ['.jpg', '.jpeg', '.png', '.gif']\n",
        "\n",
        "sad_directory = '/content/drive/MyDrive/DL_Tasks_2024/recognize_facial_emotion/Samples/Train_Test_Samples/train/sad'\n",
        "sad_files = os.listdir(sad_directory)\n",
        "\n",
        "happy_directory = '/content/drive/MyDrive/DL_Tasks_2024/recognize_facial_emotion/Samples/Train_Test_Samples/train/happy'\n",
        "happy_files = os.listdir(happy_directory)\n",
        "\n",
        "sad_count = sum(1 for file in sad_files if os.path.splitext(file)[1].lower() in image_extensions)\n",
        "happy_count = sum(1 for file in happy_files if os.path.splitext(file)[1].lower() in image_extensions)\n",
        "\n",
        "print(f\"Number of sad images in the directory: {sad_count}\")\n",
        "print(f\"Number of happy images in the directory: {happy_count}\")\n",
        "\n",
        "ex_number = happy_count - sad_count\n",
        "print(f\"Number of results that need to be deleted: {ex_number}\")"
      ],
      "metadata": {
        "colab": {
          "base_uri": "https://localhost:8080/"
        },
        "id": "XIHVJL5k6x1n",
        "outputId": "339835f9-5dbf-4278-c445-d3c998deaaa1"
      },
      "execution_count": 4,
      "outputs": [
        {
          "output_type": "stream",
          "name": "stdout",
          "text": [
            "Number of sad images in the directory: 4830\n",
            "Number of happy images in the directory: 4830\n",
            "Number of results that need to be deleted: 0\n"
          ]
        }
      ]
    },
    {
      "cell_type": "markdown",
      "source": [
        "# Balance the Train data by abandon the excess happy images"
      ],
      "metadata": {
        "id": "n20w8CCnN5pn"
      }
    },
    {
      "cell_type": "code",
      "source": [
        "\n",
        "source_directory  =  happy_directory # where exceeded images\n",
        "\n",
        "new_folder_name = 'exceeded_images'  # we can use them in testing\n",
        "new_folder_path = os.path.join(source_directory, new_folder_name)\n",
        "os.makedirs(new_folder_path, exist_ok=True)\n",
        "\n",
        "files = os.listdir(source_directory) # Get a list of all files in the source directory\n",
        "\n",
        "image_extensions = ['.jpg', '.jpeg', '.png', '.gif']\n",
        "\n",
        "random.shuffle(files)\n",
        "\n",
        "moved_count = 0\n",
        "for file in files:\n",
        "    if moved_count >= ex_number:\n",
        "        break  # Stop moving files once x images are moved\n",
        "    if os.path.splitext(file)[1].lower() in image_extensions:\n",
        "        source_file_path = os.path.join(source_directory, file)\n",
        "        destination_file_path = os.path.join(new_folder_path, file)\n",
        "        shutil.move(source_file_path, destination_file_path)\n",
        "        moved_count += 1\n",
        "\n",
        "print(f\"Moved {moved_count} images to {new_folder_path}\")\n"
      ],
      "metadata": {
        "colab": {
          "base_uri": "https://localhost:8080/"
        },
        "id": "6m_x-HaPIW64",
        "outputId": "4a7acee2-9754-47d5-8d43-31221e55a449"
      },
      "execution_count": null,
      "outputs": [
        {
          "output_type": "stream",
          "name": "stdout",
          "text": [
            "Moved 2385 images to /content/drive/MyDrive/DL_Tasks_2024/recognize_facial_emotion/Samples/Train_Test_Samples/train/happy/exceeded_images\n"
          ]
        }
      ]
    },
    {
      "cell_type": "code",
      "source": [
        "shutil.move(new_folder_path, '/content/drive/MyDrive/DL_Tasks_2024/recognize_facial_emotion/Samples/Train_Test_Samples')"
      ],
      "metadata": {
        "colab": {
          "base_uri": "https://localhost:8080/",
          "height": 36
        },
        "id": "62wRh8Tmc-Ro",
        "outputId": "31b32a07-64fa-42b2-d72d-cfb39a163bb3"
      },
      "execution_count": null,
      "outputs": [
        {
          "output_type": "execute_result",
          "data": {
            "text/plain": [
              "'/content/drive/MyDrive/DL_Tasks_2024/recognize_facial_emotion/Samples/Train_Test_Samples/exceeded_images'"
            ],
            "application/vnd.google.colaboratory.intrinsic+json": {
              "type": "string"
            }
          },
          "metadata": {},
          "execution_count": 46
        }
      ]
    },
    {
      "cell_type": "markdown",
      "source": [
        "# Checking"
      ],
      "metadata": {
        "id": "ATNAUcGpRzuE"
      }
    },
    {
      "cell_type": "code",
      "source": [
        "happy_directory = '/content/drive/MyDrive/DL_Tasks_2024/recognize_facial_emotion/Samples/Train_Test_Samples/train/happy'\n",
        "happy_files_2 = os.listdir(happy_directory)\n",
        "\n",
        "happy_count_2 = sum(1 for file in happy_files_2 if os.path.splitext(file)[1].lower() in image_extensions)\n",
        "\n",
        "\n",
        "print(f\"Number of happy images in the directory: {happy_count_2}\")\n"
      ],
      "metadata": {
        "colab": {
          "base_uri": "https://localhost:8080/"
        },
        "id": "SstAFMALQ_WH",
        "outputId": "d8eb5b1f-11ed-4a9f-eb49-d086160890fe"
      },
      "execution_count": 5,
      "outputs": [
        {
          "output_type": "stream",
          "name": "stdout",
          "text": [
            "Number of happy images in the directory: 4830\n"
          ]
        }
      ]
    },
    {
      "cell_type": "markdown",
      "source": [
        "# Show a sample of images and study the characteristics"
      ],
      "metadata": {
        "id": "OQYt5YpRWTIb"
      }
    },
    {
      "cell_type": "code",
      "source": [
        "i = random.randrange(happy_count_2)\n",
        "image_path = os.path.join(happy_directory, happy_files_2[i])\n",
        "\n",
        "image = Image.open(image_path)\n",
        "image.convert('L')\n",
        "\n",
        "plt.imshow(image, cmap='gray')\n",
        "plt.axis('off')\n",
        "plt.show()\n",
        "\n",
        "# Get and display the dimensions of the image\n",
        "width, height = image.size\n",
        "print(f'Dimensions of image: {width} x {height} pixels')"
      ],
      "metadata": {
        "colab": {
          "base_uri": "https://localhost:8080/",
          "height": 424
        },
        "id": "k3JZJ238WpJe",
        "outputId": "0aab168f-a788-4eed-b8d1-4b25a19d387f"
      },
      "execution_count": 6,
      "outputs": [
        {
          "output_type": "display_data",
          "data": {
            "text/plain": [
              "<Figure size 640x480 with 1 Axes>"
            ],
            "image/png": "[encoded data removed]"
          },
          "metadata": {}
        },
        {
          "output_type": "stream",
          "name": "stdout",
          "text": [
            "Dimensions of image: 48 x 48 pixels\n"
          ]
        }
      ]
    },
    {
      "cell_type": "markdown",
      "source": [
        "# Preprocessing Image Data\n",
        "\n",
        "\n",
        "> shuffle // split // standarization // Load as a tensor\n",
        "\n"
      ],
      "metadata": {
        "id": "Y3BCVcSwUEck"
      }
    },
    {
      "cell_type": "code",
      "source": [
        "trainData_generator = ImageDataGenerator(rescale = 1./255,\n",
        "                                         validation_split=0.2)\n",
        "testData_generator = ImageDataGenerator(rescale = 1./255)\n",
        "\n",
        "train_generator = trainData_generator.flow_from_directory(\n",
        "                      \"/content/drive/MyDrive/DL_Tasks_2024/recognize_facial_emotion/Samples/Train_Test_Samples/train\",\n",
        "                      target_size = (48, 48),\n",
        "                      batch_size = 32,\n",
        "                      color_mode = \"grayscale\",\n",
        "                      class_mode = \"binary\",\n",
        "                      subset='training')\n",
        "\n",
        "\n",
        "\n",
        "validation_generator = trainData_generator.flow_from_directory(\n",
        "                      \"/content/drive/MyDrive/DL_Tasks_2024/recognize_facial_emotion/Samples/Train_Test_Samples/train\",\n",
        "                      target_size = (48, 48),\n",
        "                      batch_size = 32,\n",
        "                      color_mode = \"grayscale\",\n",
        "                      class_mode = \"binary\",\n",
        "                      subset='validation')\n",
        "\n",
        "test_generator = testData_generator.flow_from_directory(\n",
        "                    \"/content/drive/MyDrive/DL_Tasks_2024/recognize_facial_emotion/Samples/Train_Test_Samples/test\",\n",
        "                    target_size = (48, 48),\n",
        "                    batch_size = 32,\n",
        "                    color_mode = \"grayscale\",\n",
        "                    class_mode = \"binary\")"
      ],
      "metadata": {
        "id": "c-zEVzjcaubg",
        "colab": {
          "base_uri": "https://localhost:8080/"
        },
        "outputId": "c6d4b202-b9a6-4e87-a84e-a921732a2031"
      },
      "execution_count": 7,
      "outputs": [
        {
          "output_type": "stream",
          "name": "stdout",
          "text": [
            "Found 7728 images belonging to 2 classes.\n",
            "Found 1932 images belonging to 2 classes.\n",
            "Found 3021 images belonging to 2 classes.\n"
          ]
        }
      ]
    },
    {
      "cell_type": "markdown",
      "source": [
        "# show a sample after standarization"
      ],
      "metadata": {
        "id": "ojkVP24sKYS7"
      }
    },
    {
      "cell_type": "code",
      "source": [
        "i = random.randrange(len(train_generator[0][0]))\n",
        "plt.imshow(train_generator[0][0][i], cmap='gray')\n",
        "plt.axis('off')\n",
        "plt.show()\n",
        "\n",
        "print(\" label :\",train_generator[0][1][i])"
      ],
      "metadata": {
        "colab": {
          "base_uri": "https://localhost:8080/",
          "height": 424
        },
        "id": "E5AnSk_Qcf0P",
        "outputId": "930a420d-86ae-4aec-a561-47c330ea0e24"
      },
      "execution_count": 8,
      "outputs": [
        {
          "output_type": "display_data",
          "data": {
            "text/plain": [
              "<Figure size 640x480 with 1 Axes>"
            ],
            "image/png": "[encoded data removed]"
          },
          "metadata": {}
        },
        {
          "output_type": "stream",
          "name": "stdout",
          "text": [
            " label : 0.0\n"
          ]
        }
      ]
    },
    {
      "cell_type": "markdown",
      "source": [
        "# Create the model\n"
      ],
      "metadata": {
        "id": "WX7kXpMHpE0N"
      }
    },
    {
      "cell_type": "code",
      "source": [
        "model = Sequential()\n",
        "\n",
        "input_shape = (48, 48, 1)\n",
        "# Add Convolutional layers\n",
        "model.add(Conv2D(32, kernel_size=(3, 3), activation='relu', input_shape=(input_shape)))\n",
        "model.add(MaxPooling2D(pool_size=(2, 2)))\n",
        "model.add(Conv2D(64, kernel_size=(3, 3), activation='relu'))\n",
        "model.add(MaxPooling2D(pool_size=(2, 2)))\n",
        "model.add(Conv2D(32, kernel_size=(3, 3), activation='relu'))\n",
        "model.add(MaxPooling2D(pool_size=(2, 2)))\n",
        "# Flatten the output before the Dense layers\n",
        "model.add(Flatten())\n",
        "\n",
        "# Add Dense layers\n",
        "model.add(Dense(128, activation='relu'))\n",
        "model.add(Dense(1, activation='sigmoid'))"
      ],
      "metadata": {
        "id": "4pz4zXw7nOes"
      },
      "execution_count": 9,
      "outputs": []
    },
    {
      "cell_type": "code",
      "source": [
        "model.compile(optimizer='adam', loss='binary_crossentropy', metrics=['accuracy'])"
      ],
      "metadata": {
        "id": "FJrnhLO8r-Ko"
      },
      "execution_count": 10,
      "outputs": []
    },
    {
      "cell_type": "markdown",
      "source": [
        "# Fitting the model"
      ],
      "metadata": {
        "id": "LFNMqwbysj_m"
      }
    },
    {
      "cell_type": "code",
      "source": [
        "no_epochs = 25\n",
        "batch_size = 128\n",
        "validation_split = 0.1\n",
        "callback = callbacks.EarlyStopping(monitor=\"val_loss\", patience=1)\n",
        "\n",
        "\n",
        "history = model.fit(train_generator,\n",
        "            epochs=no_epochs,\n",
        "            callbacks=[callback],\n",
        "            validation_data=validation_generator,\n",
        "            use_multiprocessing=True\n",
        "            )"
      ],
      "metadata": {
        "colab": {
          "base_uri": "https://localhost:8080/"
        },
        "id": "57xvsjrssNty",
        "outputId": "c724e6a8-87d2-4b58-bb31-127f8ee7b627"
      },
      "execution_count": 11,
      "outputs": [
        {
          "output_type": "stream",
          "name": "stdout",
          "text": [
            "Epoch 1/25\n",
            "242/242 [==============================] - 63s 254ms/step - loss: 0.6616 - accuracy: 0.5823 - val_loss: 0.5879 - val_accuracy: 0.7024\n",
            "Epoch 2/25\n",
            "242/242 [==============================] - 60s 246ms/step - loss: 0.5283 - accuracy: 0.7395 - val_loss: 0.4923 - val_accuracy: 0.7676\n",
            "Epoch 3/25\n",
            "242/242 [==============================] - 60s 245ms/step - loss: 0.4625 - accuracy: 0.7799 - val_loss: 0.4562 - val_accuracy: 0.7774\n",
            "Epoch 4/25\n",
            "242/242 [==============================] - 59s 245ms/step - loss: 0.4218 - accuracy: 0.8045 - val_loss: 0.4445 - val_accuracy: 0.8002\n",
            "Epoch 5/25\n",
            "242/242 [==============================] - 69s 286ms/step - loss: 0.3861 - accuracy: 0.8235 - val_loss: 0.4090 - val_accuracy: 0.8121\n",
            "Epoch 6/25\n",
            "242/242 [==============================] - 65s 268ms/step - loss: 0.3578 - accuracy: 0.8388 - val_loss: 0.3949 - val_accuracy: 0.8261\n",
            "Epoch 7/25\n",
            "242/242 [==============================] - 63s 261ms/step - loss: 0.3398 - accuracy: 0.8507 - val_loss: 0.4007 - val_accuracy: 0.8245\n"
          ]
        }
      ]
    },
    {
      "cell_type": "code",
      "source": [
        "his_loss     = history.history['loss']\n",
        "his_val_loss = history.history['val_loss']\n",
        "\n",
        "real_num_epochs = range(len(his_loss))\n",
        "\n",
        "plt.plot(real_num_epochs, his_loss, 'red', label='Training Loss')\n",
        "plt.plot(real_num_epochs, his_val_loss, 'blue', label='Validation Loss')\n",
        "plt.legend(loc=0)\n",
        "plt.figure()\n",
        "\n",
        "plt.show()\n"
      ],
      "metadata": {
        "colab": {
          "base_uri": "https://localhost:8080/",
          "height": 448
        },
        "id": "BnWV8Qq2UsAq",
        "outputId": "e17595d7-9d97-40fd-94a2-aa14ac6bcbac"
      },
      "execution_count": 12,
      "outputs": [
        {
          "output_type": "display_data",
          "data": {
            "text/plain": [
              "<Figure size 640x480 with 1 Axes>"
            ],
            "image/png": "[encoded data removed]"
          },
          "metadata": {}
        },
        {
          "output_type": "display_data",
          "data": {
            "text/plain": [
              "<Figure size 640x480 with 0 Axes>"
            ]
          },
          "metadata": {}
        }
      ]
    },
    {
      "cell_type": "code",
      "source": [
        "accuracy = history.history['accuracy']\n",
        "val_acc = history.history['val_accuracy']\n",
        "\n",
        "plt.plot(real_num_epochs, accuracy, 'Red', label='Training accuracy')\n",
        "plt.plot(real_num_epochs, val_acc, 'blue', label='Validation accuracy')\n",
        "plt.legend(loc=0)\n",
        "plt.figure()\n"
      ],
      "metadata": {
        "colab": {
          "base_uri": "https://localhost:8080/",
          "height": 466
        },
        "id": "YuN00FredHux",
        "outputId": "d3809b9c-d61d-4642-fd65-d7398845ded7"
      },
      "execution_count": 13,
      "outputs": [
        {
          "output_type": "execute_result",
          "data": {
            "text/plain": [
              "<Figure size 640x480 with 0 Axes>"
            ]
          },
          "metadata": {},
          "execution_count": 13
        },
        {
          "output_type": "display_data",
          "data": {
            "text/plain": [
              "<Figure size 640x480 with 1 Axes>"
            ],
            "image/png": "[encoded data removed]"
          },
          "metadata": {}
        },
        {
          "output_type": "display_data",
          "data": {
            "text/plain": [
              "<Figure size 640x480 with 0 Axes>"
            ]
          },
          "metadata": {}
        }
      ]
    },
    {
      "cell_type": "markdown",
      "source": [
        "# Evaluate the model"
      ],
      "metadata": {
        "id": "vK_7l1yHguqa"
      }
    },
    {
      "cell_type": "code",
      "source": [
        "test_loss, test_accuracy = model.evaluate(test_generator)"
      ],
      "metadata": {
        "colab": {
          "base_uri": "https://localhost:8080/"
        },
        "id": "cW0_NIB5dY3s",
        "outputId": "af758648-5681-4428-affd-8ce084542b3c"
      },
      "execution_count": 14,
      "outputs": [
        {
          "output_type": "stream",
          "name": "stdout",
          "text": [
            "95/95 [==============================] - 13s 137ms/step - loss: 0.3718 - accuracy: 0.8285\n"
          ]
        }
      ]
    },
    {
      "cell_type": "markdown",
      "source": [
        "# Make predeiction\n"
      ],
      "metadata": {
        "id": "RoMJH_ehqjjn"
      }
    },
    {
      "cell_type": "code",
      "source": [
        "idx = random.randrange(len(test_generator[0][0]))\n",
        "plt.imshow(test_generator[0][0][idx], cmap='gray')\n",
        "plt.show()\n",
        "\n",
        "y_pred = model.predict(test_generator[0][0][idx].reshape(1,48,48,1))\n",
        "print('pred: ', y_pred)\n",
        "print('Actuall: ', test_generator[0][1][idx])\n"
      ],
      "metadata": {
        "colab": {
          "base_uri": "https://localhost:8080/",
          "height": 486
        },
        "id": "N264ySnDq2Gd",
        "outputId": "d46d56f7-0082-450b-cd5f-188b0ca1b503"
      },
      "execution_count": 16,
      "outputs": [
        {
          "output_type": "display_data",
          "data": {
            "text/plain": [
              "<Figure size 640x480 with 1 Axes>"
            ],
            "image/png": "[encoded data removed]"
          },
          "metadata": {}
        },
        {
          "output_type": "stream",
          "name": "stdout",
          "text": [
            "1/1 [==============================] - 0s 25ms/step\n",
            "pred:  [[0.02411088]]\n",
            "Actuall:  0.0\n"
          ]
        }
      ]
    }
  ]
}