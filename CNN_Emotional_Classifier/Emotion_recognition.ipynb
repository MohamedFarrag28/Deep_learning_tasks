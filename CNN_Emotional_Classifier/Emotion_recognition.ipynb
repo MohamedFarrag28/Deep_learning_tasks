{
  "nbformat": 4,
  "nbformat_minor": 0,
  "metadata": {
    "colab": {
      "provenance": [],
      "authorship_tag": "ABX9TyOW8DGT0gubVHT10NnxI04b"
    },
    "kernelspec": {
      "name": "python3",
      "display_name": "Python 3"
    },
    "language_info": {
      "name": "python"
    }
  },
  "cells": [
    {
      "cell_type": "code",
      "execution_count": 1,
      "metadata": {
        "id": "L8uCmGUgoQ5u",
        "colab": {
          "base_uri": "https://localhost:8080/"
        },
        "outputId": "2b490d59-d7ff-496c-89e3-90a372423a65"
      },
      "outputs": [
        {
          "output_type": "stream",
          "name": "stdout",
          "text": [
            "Drive already mounted at /content/drive; to attempt to forcibly remount, call drive.mount(\"/content/drive\", force_remount=True).\n"
          ]
        }
      ],
      "source": [
        "import os\n",
        "from google.colab import drive\n",
        "drive.mount('/content/drive')"
      ]
    },
    {
      "cell_type": "code",
      "source": [
        "os.chdir('/content/drive/MyDrive/DL_Tasks_2024/recognize_facial_emotion')"
      ],
      "metadata": {
        "id": "soM9J9F1ouvm"
      },
      "execution_count": 2,
      "outputs": []
    },
    {
      "cell_type": "markdown",
      "source": [
        "# Import Libraries"
      ],
      "metadata": {
        "id": "Q8MoIJnOyUud"
      }
    },
    {
      "cell_type": "code",
      "source": [
        "import numpy as np\n",
        "import tensorflow as tf\n",
        "from tensorflow.keras.models import Sequential\n",
        "from tensorflow.keras.layers import Conv2D, MaxPooling2D, Dense, Flatten\n",
        "import matplotlib.pyplot as plt\n",
        "import zipfile\n",
        "from keras.preprocessing.image import ImageDataGenerator\n",
        "import shutil\n",
        "import random\n",
        "from PIL import Image\n",
        "from tensorflow.keras import callbacks\n",
        "import cv2\n",
        "from tensorflow.keras.utils import to_categorical\n",
        "import pandas as pd"
      ],
      "metadata": {
        "id": "i4CedmJrrbpN"
      },
      "execution_count": 3,
      "outputs": []
    },
    {
      "cell_type": "markdown",
      "source": [
        "\n",
        "# Unzip the dataset & Loading it\n",
        "\n"
      ],
      "metadata": {
        "id": "baaGtCfx3Spm"
      }
    },
    {
      "cell_type": "code",
      "source": [
        "#with zipfile.ZipFile(\"recognize_facial_samples.zip\",\"r\") as zip_ref :\n",
        "#  zip_ref.extractall(\"Samples/\")"
      ],
      "metadata": {
        "id": "OPluKzKy3ag8"
      },
      "execution_count": 13,
      "outputs": []
    },
    {
      "cell_type": "markdown",
      "source": [
        "# Cheching Balancing in our training set\n",
        "\n",
        "\n",
        "> 50% happy -- 50 % sad\n"
      ],
      "metadata": {
        "id": "JGJ8-KJSHvEs"
      }
    },
    {
      "cell_type": "code",
      "source": [
        "#For Training Data ONLY\n",
        "\n",
        "image_extensions = ['.jpg', '.jpeg', '.png', '.gif']\n",
        "\n",
        "sad_directory = '/content/drive/MyDrive/DL_Tasks_2024/recognize_facial_emotion/Samples/Train_Test_Samples/train/sad'\n",
        "sad_files = os.listdir(sad_directory)\n",
        "\n",
        "happy_directory = '/content/drive/MyDrive/DL_Tasks_2024/recognize_facial_emotion/Samples/Train_Test_Samples/train/happy'\n",
        "happy_files = os.listdir(happy_directory)\n",
        "\n",
        "sad_count = sum(1 for file in sad_files if os.path.splitext(file)[1].lower() in image_extensions)\n",
        "happy_count = sum(1 for file in happy_files if os.path.splitext(file)[1].lower() in image_extensions)\n",
        "\n",
        "print(f\"Number of sad images in the directory: {sad_count}\")\n",
        "print(f\"Number of happy images in the directory: {happy_count}\")\n",
        "\n",
        "ex_number = happy_count - sad_count\n",
        "print(f\"Number of results that need to be deleted: {ex_number}\")"
      ],
      "metadata": {
        "colab": {
          "base_uri": "https://localhost:8080/"
        },
        "id": "XIHVJL5k6x1n",
        "outputId": "2f98dec7-0459-499f-e41b-6f9a43e0d2b5"
      },
      "execution_count": 4,
      "outputs": [
        {
          "output_type": "stream",
          "name": "stdout",
          "text": [
            "Number of sad images in the directory: 4830\n",
            "Number of happy images in the directory: 4830\n",
            "Number of results that need to be deleted: 0\n"
          ]
        }
      ]
    },
    {
      "cell_type": "markdown",
      "source": [
        "# Balance the Train data by abandon the excess happy images"
      ],
      "metadata": {
        "id": "n20w8CCnN5pn"
      }
    },
    {
      "cell_type": "code",
      "source": [
        "\n",
        "source_directory  =  happy_directory # where exceeded images\n",
        "\n",
        "new_folder_name = 'exceeded_images'  # we can use them in testing\n",
        "new_folder_path = os.path.join(source_directory, new_folder_name)\n",
        "os.makedirs(new_folder_path, exist_ok=True)\n",
        "\n",
        "files = os.listdir(source_directory) # Get a list of all files in the source directory\n",
        "\n",
        "image_extensions = ['.jpg', '.jpeg', '.png', '.gif']\n",
        "\n",
        "random.shuffle(files)\n",
        "\n",
        "moved_count = 0\n",
        "for file in files:\n",
        "    if moved_count >= ex_number:\n",
        "        break  # Stop moving files once x images are moved\n",
        "    if os.path.splitext(file)[1].lower() in image_extensions:\n",
        "        source_file_path = os.path.join(source_directory, file)\n",
        "        destination_file_path = os.path.join(new_folder_path, file)\n",
        "        shutil.move(source_file_path, destination_file_path)\n",
        "        moved_count += 1\n",
        "\n",
        "print(f\"Moved {moved_count} images to {new_folder_path}\")\n"
      ],
      "metadata": {
        "colab": {
          "base_uri": "https://localhost:8080/"
        },
        "id": "6m_x-HaPIW64",
        "outputId": "4a7acee2-9754-47d5-8d43-31221e55a449"
      },
      "execution_count": 21,
      "outputs": [
        {
          "output_type": "stream",
          "name": "stdout",
          "text": [
            "Moved 2385 images to /content/drive/MyDrive/DL_Tasks_2024/recognize_facial_emotion/Samples/Train_Test_Samples/train/happy/exceeded_images\n"
          ]
        }
      ]
    },
    {
      "cell_type": "code",
      "source": [
        "shutil.move(new_folder_path, '/content/drive/MyDrive/DL_Tasks_2024/recognize_facial_emotion/Samples/Train_Test_Samples')"
      ],
      "metadata": {
        "colab": {
          "base_uri": "https://localhost:8080/",
          "height": 36
        },
        "id": "62wRh8Tmc-Ro",
        "outputId": "31b32a07-64fa-42b2-d72d-cfb39a163bb3"
      },
      "execution_count": 46,
      "outputs": [
        {
          "output_type": "execute_result",
          "data": {
            "text/plain": [
              "'/content/drive/MyDrive/DL_Tasks_2024/recognize_facial_emotion/Samples/Train_Test_Samples/exceeded_images'"
            ],
            "application/vnd.google.colaboratory.intrinsic+json": {
              "type": "string"
            }
          },
          "metadata": {},
          "execution_count": 46
        }
      ]
    },
    {
      "cell_type": "markdown",
      "source": [
        "# Checking"
      ],
      "metadata": {
        "id": "ATNAUcGpRzuE"
      }
    },
    {
      "cell_type": "code",
      "source": [
        "happy_directory = '/content/drive/MyDrive/DL_Tasks_2024/recognize_facial_emotion/Samples/Train_Test_Samples/train/happy'\n",
        "happy_files_2 = os.listdir(happy_directory)\n",
        "\n",
        "happy_count_2 = sum(1 for file in happy_files_2 if os.path.splitext(file)[1].lower() in image_extensions)\n",
        "\n",
        "\n",
        "print(f\"Number of happy images in the directory: {happy_count_2}\")\n"
      ],
      "metadata": {
        "colab": {
          "base_uri": "https://localhost:8080/"
        },
        "id": "SstAFMALQ_WH",
        "outputId": "1b406380-6f96-49ba-ad9d-fe87bb9bad42"
      },
      "execution_count": 5,
      "outputs": [
        {
          "output_type": "stream",
          "name": "stdout",
          "text": [
            "Number of happy images in the directory: 4830\n"
          ]
        }
      ]
    },
    {
      "cell_type": "markdown",
      "source": [
        "# Show a sample of images and study the characteristics"
      ],
      "metadata": {
        "id": "OQYt5YpRWTIb"
      }
    },
    {
      "cell_type": "code",
      "source": [
        "i = random.randrange(happy_count_2)\n",
        "image_path = os.path.join(happy_directory, happy_files_2[i])\n",
        "\n",
        "image = Image.open(image_path)\n",
        "image.convert('L')\n",
        "\n",
        "plt.imshow(image, cmap='gray')\n",
        "plt.axis('off')\n",
        "plt.show()\n",
        "\n",
        "# Get and display the dimensions of the image\n",
        "width, height = image.size\n",
        "print(f'Dimensions of image: {width} x {height} pixels')"
      ],
      "metadata": {
        "colab": {
          "base_uri": "https://localhost:8080/",
          "height": 424
        },
        "id": "k3JZJ238WpJe",
        "outputId": "fe149a2a-3c8e-48ab-ee5c-d7fec721855e"
      },
      "execution_count": 6,
      "outputs": [
        {
          "output_type": "display_data",
          "data": {
            "text/plain": [
              "<Figure size 640x480 with 1 Axes>"
            ],
            "image/png": "[encoded data removed]"
          },
          "metadata": {}
        },
        {
          "output_type": "stream",
          "name": "stdout",
          "text": [
            "Dimensions of image: 48 x 48 pixels\n"
          ]
        }
      ]
    },
    {
      "cell_type": "markdown",
      "source": [
        "# Preprocessing Image Data"
      ],
      "metadata": {
        "id": "Y3BCVcSwUEck"
      }
    },
    {
      "cell_type": "code",
      "source": [
        "######################################################################\n",
        "#             NOT Comp, Method---> have some issues on it            #\n",
        "######################################################################\n",
        "\n",
        "\n",
        "#trainData_generator = ImageDataGenerator(rescale = 1./255,\n",
        "#                                          validation_split=0.2)\n",
        "# testData_generator = ImageDataGenerator(rescale = 1./255)\n",
        "\n",
        "# train_generator = trainData_generator.flow_from_directory(\n",
        "#                       \"/content/drive/MyDrive/DL_Tasks_2024/recognize_facial_emotion/Samples/Train_Test_Samples/train\",\n",
        "#                       target_size = (48, 48),\n",
        "#                       batch_size = 32,\n",
        "#                       color_mode = \"grayscale\",\n",
        "#                       class_mode = \"binary\",\n",
        "#                       subset='training')\n",
        "\n",
        "\n",
        "\n",
        "# validation_generator = trainData_generator.flow_from_directory(\n",
        "#                       \"/content/drive/MyDrive/DL_Tasks_2024/recognize_facial_emotion/Samples/Train_Test_Samples/train\",\n",
        "#                       target_size = (48, 48),\n",
        "#                       batch_size = 32,\n",
        "#                       color_mode = \"grayscale\",\n",
        "#                       class_mode = \"binary\",\n",
        "#                       subset='validation')\n",
        "\n",
        "# test_generator = testData_generator.flow_from_directory(\n",
        "#                     \"/content/drive/MyDrive/DL_Tasks_2024/recognize_facial_emotion/Samples/Train_Test_Samples/test\",\n",
        "#                     target_size = (48, 48),\n",
        "#                     batch_size = 32,\n",
        "#                     color_mode = \"grayscale\",\n",
        "#                     class_mode = \"binary\")"
      ],
      "metadata": {
        "id": "c-zEVzjcaubg"
      },
      "execution_count": null,
      "outputs": []
    },
    {
      "cell_type": "code",
      "source": [
        "def data_generator_std(root_path):\n",
        "    img_lst  = []\n",
        "    class_lst= []\n",
        "    for dir_level_1 in os.listdir(root_path):\n",
        "                for file in os.listdir(os.path.join(root_path, dir_level_1)):\n",
        "                    image_path= os.path.join(root_path, dir_level_1,file)\n",
        "                    image= cv2.imread(image_path)\n",
        "                    image= cv2.cvtColor(image, cv2.COLOR_RGB2GRAY) #ensure 1D arr\n",
        "                    image=np.array(image)\n",
        "                    image = image.astype('float32')\n",
        "                    image = image / 255.0     #stanzarization\n",
        "                    img_lst.append(image)\n",
        "                    if(dir_level_1==\"happy\"):\n",
        "                        class_lst.append(1.0)\n",
        "                    else:\n",
        "                        class_lst.append(0.0)\n",
        "    return img_lst, class_lst"
      ],
      "metadata": {
        "id": "5am-uMqH8Zmy"
      },
      "execution_count": 7,
      "outputs": []
    },
    {
      "cell_type": "code",
      "source": [
        "train_data ,  train_label  = data_generator_std(\"/content/drive/MyDrive/DL_Tasks_2024/recognize_facial_emotion/Samples/Train_Test_Samples/train\")\n",
        "test_data  ,  test_label   = data_generator_std(\"/content/drive/MyDrive/DL_Tasks_2024/recognize_facial_emotion/Samples/Train_Test_Samples/test\")"
      ],
      "metadata": {
        "id": "49CxlAet_UlC"
      },
      "execution_count": 8,
      "outputs": []
    },
    {
      "cell_type": "code",
      "source": [
        "\n",
        "train_data = np.array(train_data)\n",
        "test_data = np.array( test_data)\n",
        "\n",
        "train_data = train_data.reshape(train_data.shape[0],train_data.shape[1], train_data.shape[2],1)\n",
        "test_data = test_data.reshape(test_data.shape[0],test_data.shape[1], test_data.shape[2],1)\n",
        "\n",
        "print(train_data.shape)\n",
        "print(test_data.shape)\n",
        "img_width, img_height, img_num_channels = train_data.shape[1], train_data.shape[2], train_data.shape[3]\n",
        "input_shape = (img_width, img_height, img_num_channels)\n",
        "\n",
        "train_label = np.array(train_label,dtype=float)\n",
        "test_label =  np.array(test_label,dtype=float)\n"
      ],
      "metadata": {
        "colab": {
          "base_uri": "https://localhost:8080/"
        },
        "id": "jIBhGYRGAN6w",
        "outputId": "053ff3cd-9cc5-41ad-e5e2-f15012d54828"
      },
      "execution_count": 9,
      "outputs": [
        {
          "output_type": "stream",
          "name": "stdout",
          "text": [
            "(9660, 48, 48, 1)\n",
            "(3021, 48, 48, 1)\n"
          ]
        }
      ]
    },
    {
      "cell_type": "markdown",
      "source": [
        "# shuffeling"
      ],
      "metadata": {
        "id": "aOw3RFpcFQ2F"
      }
    },
    {
      "cell_type": "code",
      "source": [
        "shuffled_indices = np.arange(train_data.shape[0])\n",
        "np.random.shuffle(shuffled_indices)\n",
        "\n",
        "shuffled_input  = train_data[shuffled_indices]\n",
        "shuffled_targets = train_label[shuffled_indices]"
      ],
      "metadata": {
        "id": "4dJuNC5-FI6v"
      },
      "execution_count": 10,
      "outputs": []
    },
    {
      "cell_type": "code",
      "source": [
        "# sample_count = shuffled_input.shape[0]\n",
        "\n",
        "# train_sample_count = int(0.9*sample_count)\n",
        "# validation_sample_count = sample_count-train_sample_count\n",
        "\n",
        "\n",
        "# train_input = shuffled_input[:train_sample_count]\n",
        "# train_targets = shuffled_targets[:train_sample_count]\n",
        "\n",
        "# validation_input = shuffled_input[train_sample_count:]\n",
        "# validation_targets = shuffled_targets[train_sample_count:]"
      ],
      "metadata": {
        "id": "3FZYOQ4iIKWY"
      },
      "execution_count": 255,
      "outputs": []
    },
    {
      "cell_type": "markdown",
      "source": [
        "# show a sample after standarization"
      ],
      "metadata": {
        "id": "ojkVP24sKYS7"
      }
    },
    {
      "cell_type": "code",
      "source": [
        "i = random.randrange(len(shuffled_targets))\n",
        "plt.imshow(shuffled_input[i], cmap='gray')\n",
        "plt.axis('off')\n",
        "plt.show()\n",
        "\n",
        "print(\" label :\",shuffled_targets[i])"
      ],
      "metadata": {
        "colab": {
          "base_uri": "https://localhost:8080/",
          "height": 424
        },
        "id": "E5AnSk_Qcf0P",
        "outputId": "33146c39-991d-4520-e772-4a5b372a6a7f"
      },
      "execution_count": 11,
      "outputs": [
        {
          "output_type": "display_data",
          "data": {
            "text/plain": [
              "<Figure size 640x480 with 1 Axes>"
            ],
            "image/png": "[encoded data removed]"
          },
          "metadata": {}
        },
        {
          "output_type": "stream",
          "name": "stdout",
          "text": [
            " label : 1.0\n"
          ]
        }
      ]
    },
    {
      "cell_type": "markdown",
      "source": [
        "# Create the model\n"
      ],
      "metadata": {
        "id": "WX7kXpMHpE0N"
      }
    },
    {
      "cell_type": "code",
      "source": [
        "model = Sequential()\n",
        "\n",
        "# Add Convolutional layers\n",
        "model.add(Conv2D(32, kernel_size=(3, 3), activation='relu', input_shape=input_shape))\n",
        "model.add(MaxPooling2D(pool_size=(2, 2)))\n",
        "model.add(Conv2D(64, kernel_size=(3, 3), activation='relu'))\n",
        "model.add(MaxPooling2D(pool_size=(2, 2)))\n",
        "model.add(Conv2D(32, kernel_size=(3, 3), activation='relu'))\n",
        "model.add(MaxPooling2D(pool_size=(2, 2)))\n",
        "# Flatten the output before the Dense layers\n",
        "model.add(Flatten())\n",
        "\n",
        "# Add Dense layers\n",
        "model.add(Dense(128, activation='relu'))\n",
        "model.add(Dense(1, activation='sigmoid'))"
      ],
      "metadata": {
        "id": "4pz4zXw7nOes"
      },
      "execution_count": 27,
      "outputs": []
    },
    {
      "cell_type": "code",
      "source": [
        "model.compile(optimizer='adam', loss='binary_crossentropy', metrics=['accuracy'])"
      ],
      "metadata": {
        "id": "FJrnhLO8r-Ko"
      },
      "execution_count": 28,
      "outputs": []
    },
    {
      "cell_type": "markdown",
      "source": [
        "# Fitting the model"
      ],
      "metadata": {
        "id": "LFNMqwbysj_m"
      }
    },
    {
      "cell_type": "code",
      "source": [
        "no_epochs = 25\n",
        "batch_size = 128\n",
        "validation_split = 0.1\n",
        "callback = callbacks.EarlyStopping(monitor=\"val_loss\", patience=1)\n",
        "\n",
        "\n",
        "history = model.fit(shuffled_input, shuffled_targets,\n",
        "            batch_size=batch_size,\n",
        "            epochs=no_epochs,\n",
        "            callbacks=[callback],\n",
        "            verbose=2,\n",
        "            validation_split=validation_split\n",
        "            )"
      ],
      "metadata": {
        "colab": {
          "base_uri": "https://localhost:8080/"
        },
        "id": "57xvsjrssNty",
        "outputId": "92547a0f-9bff-485b-97b4-9cb43c5c8d28"
      },
      "execution_count": 29,
      "outputs": [
        {
          "output_type": "stream",
          "name": "stdout",
          "text": [
            "Epoch 1/25\n",
            "68/68 - 27s - loss: 0.6818 - accuracy: 0.5596 - val_loss: 0.6326 - val_accuracy: 0.6573 - 27s/epoch - 402ms/step\n",
            "Epoch 2/25\n",
            "68/68 - 26s - loss: 0.5800 - accuracy: 0.7017 - val_loss: 0.5508 - val_accuracy: 0.7277 - 26s/epoch - 382ms/step\n",
            "Epoch 3/25\n",
            "68/68 - 25s - loss: 0.5146 - accuracy: 0.7525 - val_loss: 0.4806 - val_accuracy: 0.7754 - 25s/epoch - 361ms/step\n",
            "Epoch 4/25\n",
            "68/68 - 27s - loss: 0.4652 - accuracy: 0.7775 - val_loss: 0.4398 - val_accuracy: 0.7992 - 27s/epoch - 394ms/step\n",
            "Epoch 5/25\n",
            "68/68 - 27s - loss: 0.4233 - accuracy: 0.8039 - val_loss: 0.4103 - val_accuracy: 0.8147 - 27s/epoch - 392ms/step\n",
            "Epoch 6/25\n",
            "68/68 - 27s - loss: 0.4015 - accuracy: 0.8160 - val_loss: 0.4049 - val_accuracy: 0.8157 - 27s/epoch - 394ms/step\n",
            "Epoch 7/25\n",
            "68/68 - 25s - loss: 0.3679 - accuracy: 0.8322 - val_loss: 0.4012 - val_accuracy: 0.8188 - 25s/epoch - 368ms/step\n",
            "Epoch 8/25\n",
            "68/68 - 26s - loss: 0.3418 - accuracy: 0.8454 - val_loss: 0.4030 - val_accuracy: 0.8240 - 26s/epoch - 377ms/step\n"
          ]
        }
      ]
    },
    {
      "cell_type": "code",
      "source": [
        "his_loss     = history.history['loss']\n",
        "his_val_loss = history.history['val_loss']\n",
        "\n",
        "real_num_epochs = range(len(his_loss))\n",
        "\n",
        "plt.plot(real_num_epochs, his_loss, 'red', label='Training Loss')\n",
        "plt.plot(real_num_epochs, his_val_loss, 'blue', label='Validation Loss')\n",
        "plt.legend(loc=0)\n",
        "plt.figure()\n",
        "\n",
        "plt.show()\n",
        ""
      ],
      "metadata": {
        "colab": {
          "base_uri": "https://localhost:8080/",
          "height": 448
        },
        "id": "BnWV8Qq2UsAq",
        "outputId": "f955f786-5c8b-4393-f8dc-55462ba7df38"
      },
      "execution_count": 30,
      "outputs": [
        {
          "output_type": "display_data",
          "data": {
            "text/plain": [
              "<Figure size 640x480 with 1 Axes>"
            ],
            "image/png": "[encoded data removed]"
          },
          "metadata": {}
        },
        {
          "output_type": "display_data",
          "data": {
            "text/plain": [
              "<Figure size 640x480 with 0 Axes>"
            ]
          },
          "metadata": {}
        }
      ]
    },
    {
      "cell_type": "code",
      "source": [
        "accuracy = history.history['accuracy']\n",
        "val_acc = history.history['val_accuracy']\n",
        "\n",
        "plt.plot(real_num_epochs, accuracy, 'Red', label='Training accuracy')\n",
        "plt.plot(real_num_epochs, val_acc, 'blue', label='Validation accuracy')\n",
        "plt.legend(loc=0)\n",
        "plt.figure()\n"
      ],
      "metadata": {
        "colab": {
          "base_uri": "https://localhost:8080/",
          "height": 466
        },
        "id": "YuN00FredHux",
        "outputId": "00b38172-4fba-45be-e75a-7edceb422fb1"
      },
      "execution_count": 31,
      "outputs": [
        {
          "output_type": "execute_result",
          "data": {
            "text/plain": [
              "<Figure size 640x480 with 0 Axes>"
            ]
          },
          "metadata": {},
          "execution_count": 31
        },
        {
          "output_type": "display_data",
          "data": {
            "text/plain": [
              "<Figure size 640x480 with 1 Axes>"
            ],
            "image/png": "[encoded data removed]"
          },
          "metadata": {}
        },
        {
          "output_type": "display_data",
          "data": {
            "text/plain": [
              "<Figure size 640x480 with 0 Axes>"
            ]
          },
          "metadata": {}
        }
      ]
    },
    {
      "cell_type": "markdown",
      "source": [
        "# Evaluate the model"
      ],
      "metadata": {
        "id": "vK_7l1yHguqa"
      }
    },
    {
      "cell_type": "code",
      "source": [
        "test_loss, test_accuracy = model.evaluate(test_data,test_label)"
      ],
      "metadata": {
        "colab": {
          "base_uri": "https://localhost:8080/"
        },
        "id": "cW0_NIB5dY3s",
        "outputId": "c1a49be9-a3c5-41f5-c06e-f8404da824a0"
      },
      "execution_count": 32,
      "outputs": [
        {
          "output_type": "stream",
          "name": "stdout",
          "text": [
            "95/95 [==============================] - 3s 32ms/step - loss: 0.4256 - accuracy: 0.8130\n"
          ]
        }
      ]
    },
    {
      "cell_type": "markdown",
      "source": [
        "# Saving the model"
      ],
      "metadata": {
        "id": "vxMtWbhKgyle"
      }
    },
    {
      "cell_type": "code",
      "source": [
        "#model.save_weights('./checkpoints/my_checkpoint/')"
      ],
      "metadata": {
        "id": "i2MCp0u9eDP8"
      },
      "execution_count": 33,
      "outputs": []
    },
    {
      "cell_type": "markdown",
      "source": [
        "# Load Model"
      ],
      "metadata": {
        "id": "w2Kl1WvmqZ8_"
      }
    },
    {
      "cell_type": "code",
      "source": [
        "model.load_weights('./checkpoints/my_checkpoint/')"
      ],
      "metadata": {
        "id": "ukRkntWDqjM_"
      },
      "execution_count": null,
      "outputs": []
    },
    {
      "cell_type": "markdown",
      "source": [
        "# Make predeiction\n"
      ],
      "metadata": {
        "id": "RoMJH_ehqjjn"
      }
    },
    {
      "cell_type": "code",
      "source": [
        "idx = random.randrange(len(test_label))\n",
        "plt.imshow(test_data[idx,:], cmap='gray')\n",
        "plt.show()\n",
        "\n",
        "y_pred = model.predict(test_data[idx,:].reshape(1,48,48,1))\n",
        "print('pred: ', y_pred)\n",
        "print('Actuall: ', test_label[idx])"
      ],
      "metadata": {
        "colab": {
          "base_uri": "https://localhost:8080/",
          "height": 486
        },
        "id": "N264ySnDq2Gd",
        "outputId": "28bd2407-8a58-4706-a48a-3160482dfa62"
      },
      "execution_count": 38,
      "outputs": [
        {
          "output_type": "display_data",
          "data": {
            "text/plain": [
              "<Figure size 640x480 with 1 Axes>"
            ],
            "image/png": "[encoded data removed]"
          },
          "metadata": {}
        },
        {
          "output_type": "stream",
          "name": "stdout",
          "text": [
            "1/1 [==============================] - 0s 41ms/step\n",
            "pred:  [[0.96928585]]\n",
            "Actuall:  1.0\n"
          ]
        }
      ]
    },
    {
      "cell_type": "code",
      "source": [],
      "metadata": {
        "id": "p7hssYeCuPXr"
      },
      "execution_count": null,
      "outputs": []
    }
  ]
}